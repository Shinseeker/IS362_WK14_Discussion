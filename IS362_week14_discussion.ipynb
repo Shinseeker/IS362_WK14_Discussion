{
 "cells": [
  {
   "cell_type": "markdown",
   "metadata": {},
   "source": [
    "**IS 362 - WEEK 14 Discussion**\n",
    "\n",
    "EBAY recomendation system\n",
    "\n",
    "BY Jake Kwok and Alexander Doler"
   ]
  },
  {
   "cell_type": "markdown",
   "metadata": {},
   "source": [
    "**THE TASK**\n",
    "\n",
    "1)Perform a Scenario Design analysis as described below.  Consider whether it makes sense for your selected recommender system to perform scenario design twice, once for the organization (e.g. Amazon.com) and once for the organization's customers.\n",
    "\n",
    "2)Attempt to reverse engineer what you can about the site, from the site interface and any available information that you can find on the Internet or elsewhere.\n",
    "\n",
    "3)Include specific recommendations about how to improve the site's recommendation capabilities going forward. \n",
    "\n",
    "4)Create your report using a Jupyter notebook, and create a discussion thread with a link to the GitHub repo where your Jupyter Notebook resides.  You are not expected to need to write code for this discussion assignment."
   ]
  },
  {
   "cell_type": "markdown",
   "metadata": {},
   "source": [
    "**Scenario Design Analysis:**"
   ]
  },
  {
   "cell_type": "markdown",
   "metadata": {},
   "source": [
    "1)Who are your target users?\n",
    "\n",
    "The targeted users are people who are looking to sell items or buy items. Anyone over the age of 18 or gender are welcomed to participate. Some users might be more internet saavy, while others may have little experience using the internet.\n",
    "\n",
    "2)What are their key goals?\n",
    "\n",
    "The goal is to get people hooked on Ebay so that they can contiune selling and buying items. The interface should be easy to use and should allow users to buy and sell easilly without getting confused or having to know a lot of the internet and technology.\n",
    "\n",
    "Sellers want their products to be more visible and sellers want to easilly find items they are searching for or could be interested in.\n",
    "\n",
    "3)How can you help them accomplish those goals?\n",
    "\n",
    "The easiest way to help is to double the amount of items that new users can sell over all. This would also help new users sell higher volume of items, and at the same time it would make them feel confident about the selling and the buying system. They make money and they can spend money. For example, when users can easilly find items they are looking for, as well as other items they might be interested in, they are more likely to make purchases. This makes everyone happy- both the buyers and the sellers. \n",
    "\n"
   ]
  },
  {
   "cell_type": "markdown",
   "metadata": {},
   "source": [
    "**Should the selected recommender system perform scenario design twice?:**\n",
    "\n",
    "It does make sense to perform scenario design twice for ebay's recommender system. Performing scenario design for eBay would allow it to better understand its users and how they interact with products on the site. Scenario design for users is especially important, as it is what allows for understanding users' buying habits and showing them the items that they would be most intersted in.\n"
   ]
  },
  {
   "cell_type": "markdown",
   "metadata": {},
   "source": [
    "**Reverse Engineer the System**\n",
    "\n",
    "Some users could have an issue with the selling cap of 40 items, which can a huge limitation. Moreover,the rating system can be harsh for a new user. Ebay seems to be geared toward a more experineced seller/buyer.\n",
    "\n",
    "1.New User setup with certain prefrences and crieteria\n",
    "\n",
    "2.Ratings and comments from other buyers\n",
    "\n",
    "3.Popular items that are sold should be analyzed and recommended"
   ]
  },
  {
   "cell_type": "markdown",
   "metadata": {},
   "source": [
    "**Specific Recommendations:**\n",
    "\n",
    "eBay should begin to weed out the sellers that use the service to resell large quantities of new items. This would make it easier for all users trying to sell items.\n",
    "\n",
    "eBay is a buyer's market, and they could probably make the process of selling something simpler and easier to understand.\n"
   ]
  },
  {
   "cell_type": "code",
   "execution_count": null,
   "metadata": {
    "collapsed": true
   },
   "outputs": [],
   "source": []
  },
  {
   "cell_type": "code",
   "execution_count": null,
   "metadata": {
    "collapsed": true
   },
   "outputs": [],
   "source": []
  }
 ],
 "metadata": {
  "kernelspec": {
   "display_name": "Python 3",
   "language": "python",
   "name": "python3"
  },
  "language_info": {
   "codemirror_mode": {
    "name": "ipython",
    "version": 3
   },
   "file_extension": ".py",
   "mimetype": "text/x-python",
   "name": "python",
   "nbconvert_exporter": "python",
   "pygments_lexer": "ipython3",
   "version": "3.5.2"
  }
 },
 "nbformat": 4,
 "nbformat_minor": 2
}
